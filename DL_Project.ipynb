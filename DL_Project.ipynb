{
 "cells": [
  {
   "cell_type": "markdown",
   "id": "688820e8",
   "metadata": {},
   "source": [
    "# Dataset Handling, Model Training, Fine-Tuning, and Validation"
   ]
  },
  {
   "cell_type": "markdown",
   "id": "960ca106",
   "metadata": {},
   "source": [
    "## Step 1: Install Required Libraries"
   ]
  },
  {
   "cell_type": "code",
   "execution_count": 1,
   "id": "d1501981",
   "metadata": {},
   "outputs": [
    {
     "name": "stdout",
     "output_type": "stream",
     "text": [
      "Requirement already satisfied: torch in c:\\users\\chintu\\appdata\\local\\programs\\python\\python312\\lib\\site-packages (2.5.1)\n",
      "Requirement already satisfied: torchvision in c:\\users\\chintu\\appdata\\local\\programs\\python\\python312\\lib\\site-packages (0.20.1)\n",
      "Requirement already satisfied: torchaudio in c:\\users\\chintu\\appdata\\local\\programs\\python\\python312\\lib\\site-packages (2.5.1)\n",
      "Requirement already satisfied: scikit-learn in c:\\users\\chintu\\appdata\\local\\programs\\python\\python312\\lib\\site-packages (1.5.2)\n",
      "Requirement already satisfied: matplotlib in c:\\users\\chintu\\appdata\\local\\programs\\python\\python312\\lib\\site-packages (3.8.2)\n",
      "Requirement already satisfied: tensorboard in c:\\users\\chintu\\appdata\\local\\programs\\python\\python312\\lib\\site-packages (2.18.0)\n",
      "Requirement already satisfied: tqdm in c:\\users\\chintu\\appdata\\local\\programs\\python\\python312\\lib\\site-packages (4.67.0)\n",
      "Requirement already satisfied: pillow in c:\\users\\chintu\\appdata\\local\\programs\\python\\python312\\lib\\site-packages (10.2.0)\n",
      "Requirement already satisfied: filelock in c:\\users\\chintu\\appdata\\local\\programs\\python\\python312\\lib\\site-packages (from torch) (3.16.1)\n",
      "Requirement already satisfied: typing-extensions>=4.8.0 in c:\\users\\chintu\\appdata\\local\\programs\\python\\python312\\lib\\site-packages (from torch) (4.12.2)\n",
      "Requirement already satisfied: networkx in c:\\users\\chintu\\appdata\\local\\programs\\python\\python312\\lib\\site-packages (from torch) (3.2.1)\n",
      "Requirement already satisfied: jinja2 in c:\\users\\chintu\\appdata\\local\\programs\\python\\python312\\lib\\site-packages (from torch) (3.1.2)\n",
      "Requirement already satisfied: fsspec in c:\\users\\chintu\\appdata\\local\\programs\\python\\python312\\lib\\site-packages (from torch) (2024.10.0)\n",
      "Requirement already satisfied: setuptools in c:\\users\\chintu\\appdata\\local\\programs\\python\\python312\\lib\\site-packages (from torch) (69.0.2)\n",
      "Requirement already satisfied: sympy==1.13.1 in c:\\users\\chintu\\appdata\\local\\programs\\python\\python312\\lib\\site-packages (from torch) (1.13.1)\n",
      "Requirement already satisfied: mpmath<1.4,>=1.1.0 in c:\\users\\chintu\\appdata\\local\\programs\\python\\python312\\lib\\site-packages (from sympy==1.13.1->torch) (1.3.0)\n",
      "Requirement already satisfied: numpy in c:\\users\\chintu\\appdata\\local\\programs\\python\\python312\\lib\\site-packages (from torchvision) (1.26.2)\n",
      "Requirement already satisfied: scipy>=1.6.0 in c:\\users\\chintu\\appdata\\local\\programs\\python\\python312\\lib\\site-packages (from scikit-learn) (1.11.4)\n",
      "Requirement already satisfied: joblib>=1.2.0 in c:\\users\\chintu\\appdata\\local\\programs\\python\\python312\\lib\\site-packages (from scikit-learn) (1.4.2)\n",
      "Requirement already satisfied: threadpoolctl>=3.1.0 in c:\\users\\chintu\\appdata\\local\\programs\\python\\python312\\lib\\site-packages (from scikit-learn) (3.5.0)\n",
      "Requirement already satisfied: contourpy>=1.0.1 in c:\\users\\chintu\\appdata\\local\\programs\\python\\python312\\lib\\site-packages (from matplotlib) (1.2.0)\n",
      "Requirement already satisfied: cycler>=0.10 in c:\\users\\chintu\\appdata\\local\\programs\\python\\python312\\lib\\site-packages (from matplotlib) (0.12.1)\n",
      "Requirement already satisfied: fonttools>=4.22.0 in c:\\users\\chintu\\appdata\\local\\programs\\python\\python312\\lib\\site-packages (from matplotlib) (4.47.0)\n",
      "Requirement already satisfied: kiwisolver>=1.3.1 in c:\\users\\chintu\\appdata\\local\\programs\\python\\python312\\lib\\site-packages (from matplotlib) (1.4.5)\n",
      "Requirement already satisfied: packaging>=20.0 in c:\\users\\chintu\\appdata\\roaming\\python\\python312\\site-packages (from matplotlib) (23.2)\n",
      "Requirement already satisfied: pyparsing>=2.3.1 in c:\\users\\chintu\\appdata\\local\\programs\\python\\python312\\lib\\site-packages (from matplotlib) (3.1.1)\n",
      "Requirement already satisfied: python-dateutil>=2.7 in c:\\users\\chintu\\appdata\\roaming\\python\\python312\\site-packages (from matplotlib) (2.8.2)\n",
      "Requirement already satisfied: absl-py>=0.4 in c:\\users\\chintu\\appdata\\local\\programs\\python\\python312\\lib\\site-packages (from tensorboard) (2.1.0)\n",
      "Requirement already satisfied: grpcio>=1.48.2 in c:\\users\\chintu\\appdata\\local\\programs\\python\\python312\\lib\\site-packages (from tensorboard) (1.68.0)\n",
      "Requirement already satisfied: markdown>=2.6.8 in c:\\users\\chintu\\appdata\\local\\programs\\python\\python312\\lib\\site-packages (from tensorboard) (3.7)\n",
      "Requirement already satisfied: protobuf!=4.24.0,>=3.19.6 in c:\\users\\chintu\\appdata\\local\\programs\\python\\python312\\lib\\site-packages (from tensorboard) (5.28.3)\n",
      "Requirement already satisfied: six>1.9 in c:\\users\\chintu\\appdata\\roaming\\python\\python312\\site-packages (from tensorboard) (1.16.0)\n",
      "Requirement already satisfied: tensorboard-data-server<0.8.0,>=0.7.0 in c:\\users\\chintu\\appdata\\local\\programs\\python\\python312\\lib\\site-packages (from tensorboard) (0.7.2)\n",
      "Requirement already satisfied: werkzeug>=1.0.1 in c:\\users\\chintu\\appdata\\local\\programs\\python\\python312\\lib\\site-packages (from tensorboard) (3.1.3)\n",
      "Requirement already satisfied: colorama in c:\\users\\chintu\\appdata\\roaming\\python\\python312\\site-packages (from tqdm) (0.4.6)\n",
      "Requirement already satisfied: MarkupSafe>=2.1.1 in c:\\users\\chintu\\appdata\\local\\programs\\python\\python312\\lib\\site-packages (from werkzeug>=1.0.1->tensorboard) (2.1.3)\n"
     ]
    },
    {
     "name": "stderr",
     "output_type": "stream",
     "text": [
      "\n",
      "[notice] A new release of pip is available: 24.2 -> 24.3.1\n",
      "[notice] To update, run: python.exe -m pip install --upgrade pip\n"
     ]
    }
   ],
   "source": [
    "\n",
    "# Install all necessary libraries\n",
    "!pip install torch torchvision torchaudio scikit-learn matplotlib tensorboard tqdm pillow\n",
    "    "
   ]
  },
  {
   "cell_type": "markdown",
   "id": "ef57592a",
   "metadata": {},
   "source": [
    "## Step 2: Import Necessary Libraries"
   ]
  },
  {
   "cell_type": "code",
   "execution_count": 2,
   "id": "9c390818",
   "metadata": {},
   "outputs": [],
   "source": [
    "\n",
    "# Import all required libraries\n",
    "import torch\n",
    "import torch.nn as nn\n",
    "import torch.optim as optim\n",
    "from torch.utils.data import DataLoader, Dataset\n",
    "from torchvision import models, transforms\n",
    "from sklearn.metrics import roc_curve, auc, classification_report, precision_score, recall_score, f1_score, confusion_matrix, ConfusionMatrixDisplay\n",
    "import matplotlib.pyplot as plt\n",
    "import numpy as np\n",
    "import os\n",
    "from PIL import Image\n",
    "import random\n",
    "from tqdm import tqdm\n",
    "from torch.utils.tensorboard import SummaryWriter\n",
    "    "
   ]
  },
  {
   "cell_type": "markdown",
   "id": "7d0d9287",
   "metadata": {},
   "source": [
    "## Step 3: Define Dataset Paths and Visualize Data"
   ]
  },
  {
   "cell_type": "code",
   "execution_count": 3,
   "id": "272e5f1b",
   "metadata": {},
   "outputs": [
    {
     "data": {
      "image/png": "[encoded data removed]",
      "text/plain": [
       "<Figure size 640x480 with 1 Axes>"
      ]
     },
     "metadata": {},
     "output_type": "display_data"
    }
   ],
   "source": [
    "\n",
    "# Specify paths to your dataset\n",
    "# Modify these paths as needed to match your dataset structure\n",
    "train_image_path = r\"C:\\Users\\Chintu\\OneDrive\\Desktop\\DLProj\\train\\images\"\n",
    "train_label_path = r'C:\\Users\\Chintu\\OneDrive\\Desktop\\DLProj\\train\\labels'\n",
    "valid_image_path = r\"C:\\Users\\Chintu\\OneDrive\\Desktop\\DLProj\\valid\\images\"\n",
    "valid_label_path = r\"C:\\Users\\Chintu\\OneDrive\\Desktop\\DLProj\\valid\\labels\"\n",
    "\n",
    "# Visualize class distribution in the training set\n",
    "from collections import Counter\n",
    "\n",
    "def calculate_class_distribution(label_folder):\n",
    "    class_counts = Counter()\n",
    "    for label_file in os.listdir(label_folder):\n",
    "        label_path = os.path.join(label_folder, label_file)\n",
    "        try:\n",
    "            with open(label_path, 'r') as file:\n",
    "                for line in file:\n",
    "                    class_id = int(line.split()[0])  # Extract class ID\n",
    "                    class_counts[class_id] += 1\n",
    "        except:\n",
    "            continue\n",
    "    return class_counts\n",
    "\n",
    "train_class_distribution = calculate_class_distribution(train_label_path)\n",
    "valid_class_distribution = calculate_class_distribution(valid_label_path)\n",
    "\n",
    "# Plot class distribution\n",
    "import pandas as pd\n",
    "train_dist = pd.DataFrame(list(train_class_distribution.items()), columns=['Class', 'Count'])\n",
    "train_dist.plot(kind='bar', x='Class', y='Count', legend=False, title='Training Set Class Distribution')\n",
    "plt.ylabel('Count')\n",
    "plt.show()\n",
    "    "
   ]
  },
  {
   "cell_type": "markdown",
   "id": "35e1db4d",
   "metadata": {},
   "source": [
    "## Step 4: Balance the Dataset"
   ]
  },
  {
   "cell_type": "code",
   "execution_count": 6,
   "id": "216d8dad",
   "metadata": {},
   "outputs": [
    {
     "data": {
      "image/png": "[encoded data removed]",
      "text/plain": [
       "<Figure size 640x480 with 1 Axes>"
      ]
     },
     "metadata": {},
     "output_type": "display_data"
    },
    {
     "data": {
      "image/png": "[encoded data removed]",
      "text/plain": [
       "<Figure size 640x480 with 1 Axes>"
      ]
     },
     "metadata": {},
     "output_type": "display_data"
    },
    {
     "data": {
      "image/png": "[encoded data removed]",
      "text/plain": [
       "<Figure size 640x480 with 1 Axes>"
      ]
     },
     "metadata": {},
     "output_type": "display_data"
    }
   ],
   "source": [
    "import shutil\n",
    "\n",
    "train_image_path = r\"C:\\Users\\Chintu\\OneDrive\\Desktop\\DLProj\\train\\images\"\n",
    "train_label_path = r'C:\\Users\\Chintu\\OneDrive\\Desktop\\DLProj\\train\\labels'\n",
    "valid_image_path = r\"C:\\Users\\Chintu\\OneDrive\\Desktop\\DLProj\\valid\\images\"\n",
    "valid_label_path = r\"C:\\Users\\Chintu\\OneDrive\\Desktop\\DLProj\\valid\\labels\"\n",
    "\n",
    "# --------------------- Step 2: Define Class Distribution Function ---------------------\n",
    "def calculate_class_distribution(label_folder):\n",
    "    \"\"\"\n",
    "    Calculate the class distribution based on label files.\n",
    "    \"\"\"\n",
    "    class_counts = Counter()\n",
    "    for label_file in os.listdir(label_folder):\n",
    "        label_path = os.path.join(label_folder, label_file)\n",
    "        try:\n",
    "            with open(label_path, 'r') as file:\n",
    "                for line in file:\n",
    "                    class_id = int(line.split()[0])  # Extract class ID\n",
    "                    class_counts[class_id] += 1\n",
    "        except Exception as e:\n",
    "            print(f\"Error processing {label_file}: {e}\")\n",
    "    return class_counts\n",
    "\n",
    "# Calculate class distribution for training and validation datasets\n",
    "train_class_distribution = calculate_class_distribution(train_label_path)\n",
    "valid_class_distribution = calculate_class_distribution(valid_label_path)\n",
    "\n",
    "# --------------------- Step 3: Visualize Class Distribution ---------------------\n",
    "def plot_class_distribution(class_distribution, title):\n",
    "    \"\"\"\n",
    "    Plot class distribution as a bar chart.\n",
    "    \"\"\"\n",
    "    class_dist_df = pd.DataFrame(list(class_distribution.items()), columns=['Class', 'Count'])\n",
    "    class_dist_df.plot(kind='bar', x='Class', y='Count', legend=False, title=title)\n",
    "    plt.ylabel('Count')\n",
    "    plt.show()\n",
    "\n",
    "# Visualize training and validation class distributions\n",
    "plot_class_distribution(train_class_distribution, 'Training Set Class Distribution')\n",
    "plot_class_distribution(valid_class_distribution, 'Validation Set Class Distribution')\n",
    "\n",
    "# --------------------- Step 4: Oversample Minority Classes ---------------------\n",
    "def oversample_class(images_folder, labels_folder, target_class, target_count):\n",
    "    \"\"\"\n",
    "    Oversample a given class by duplicating its images and labels to match the target count.\n",
    "    \"\"\"\n",
    "    image_files = os.listdir(images_folder)\n",
    "    label_files = os.listdir(labels_folder)\n",
    "    target_files = []\n",
    "\n",
    "    # Safely process label files\n",
    "    for img_file, lbl_file in zip(image_files, label_files):\n",
    "        label_path = os.path.join(labels_folder, lbl_file)\n",
    "        try:\n",
    "            with open(label_path, 'r') as file:\n",
    "                first_line = file.readline().strip()\n",
    "                if first_line and int(first_line.split()[0]) == target_class:\n",
    "                    target_files.append((img_file, lbl_file))\n",
    "        except Exception as e:\n",
    "            print(f\"Skipping {lbl_file}: {e}\")\n",
    "\n",
    "    # Check if there are enough files to oversample\n",
    "    if not target_files:\n",
    "        print(f\"No valid files found for class {target_class}. Oversampling cannot proceed.\")\n",
    "        return\n",
    "\n",
    "    current_count = len(target_files)\n",
    "    duplicates_needed = target_count - current_count\n",
    "\n",
    "    for i in range(duplicates_needed):\n",
    "        img_file, lbl_file = random.choice(target_files)\n",
    "        img_src = os.path.join(images_folder, img_file)\n",
    "        lbl_src = os.path.join(labels_folder, lbl_file)\n",
    "        img_dst = os.path.join(images_folder, f\"{os.path.splitext(img_file)[0]}_dup_{i}.jpg\")\n",
    "        lbl_dst = os.path.join(labels_folder, f\"{os.path.splitext(lbl_file)[0]}_dup_{i}.txt\")\n",
    "        shutil.copy(img_src, img_dst)\n",
    "        shutil.copy(lbl_src, lbl_dst)\n",
    "\n",
    "# Oversample the minority class (Modify target class ID if needed)\n",
    "minority_class = 1  # Class ID to oversample\n",
    "majority_class_count = max(train_class_distribution.values())\n",
    "oversample_class(train_image_path, train_label_path, minority_class, majority_class_count)\n",
    "\n",
    "# Recalculate and visualize the balanced dataset\n",
    "train_class_distribution = calculate_class_distribution(train_label_path)\n",
    "plot_class_distribution(train_class_distribution, 'Balanced Training Set Class Distribution')\n"
   ]
  },
  {
   "cell_type": "markdown",
   "id": "4f4e4b58",
   "metadata": {},
   "source": [
    "## Step 5: Apply Data Augmentation"
   ]
  },
  {
   "cell_type": "code",
   "execution_count": 7,
   "id": "d4aa88c3",
   "metadata": {},
   "outputs": [
    {
     "name": "stderr",
     "output_type": "stream",
     "text": [
      "Augmenting Images: 100%|██████████| 1968/1968 [01:11<00:00, 27.60it/s]\n"
     ]
    }
   ],
   "source": [
    "\n",
    "# Apply data augmentation to the training set\n",
    "def augment_images(images_folder, augmentations=2):\n",
    "    os.makedirs(images_folder + '_augmented', exist_ok=True)\n",
    "    for image_file in tqdm(os.listdir(images_folder), desc=\"Augmenting Images\"):\n",
    "        image_path = os.path.join(images_folder, image_file)\n",
    "        image = Image.open(image_path)\n",
    "        for i in range(augmentations):\n",
    "            augmented_image = image.copy()\n",
    "            if random.random() > 0.5:\n",
    "                augmented_image = augmented_image.transpose(Image.FLIP_LEFT_RIGHT)\n",
    "            if random.random() > 0.5:\n",
    "                augmented_image = augmented_image.transpose(Image.FLIP_TOP_BOTTOM)\n",
    "            augmented_image = augmented_image.rotate(random.uniform(-15, 15), expand=True)\n",
    "            augmented_image.save(os.path.join(images_folder + '_augmented', f\"{os.path.splitext(image_file)[0]}_aug_{i}.jpg\"))\n",
    "\n",
    "augment_images(train_image_path)\n",
    "    "
   ]
  },
  {
   "cell_type": "markdown",
   "id": "ed15fa49",
   "metadata": {},
   "source": [
    "## Step 6: Define the Dataset Class"
   ]
  },
  {
   "cell_type": "code",
   "execution_count": 12,
   "id": "62691abc",
   "metadata": {},
   "outputs": [
    {
     "name": "stdout",
     "output_type": "stream",
     "text": [
      "Images: ['105473010-1537987843171fish_jpg.rf.35b8f298ef27b712e268402fb089e304.jpg', '360_F_254676778_XDzf5slTFxgoEWJwurSoImMXWe3XDH2b_jpg.rf.6a067e9179bd977d37a836af31c801a1.jpg', '7XQPTvfbnFvEWDUeaGRoSW-1200-80_jpg.rf.cc141c0e16e834f9850c7b624339043d.jpg', 'a-161-feed-different-food-083106-203_jpg.rf.905274b70bb859c7826a945301220541.jpg', 'c3npbx_jpg.rf.b98973c1c5ed853e3e4028db4204a531.jpg']\n",
      "Labels: ['105473010-1537987843171fish_jpg.rf.35b8f298ef27b712e268402fb089e304.txt', '360_F_254676778_XDzf5slTFxgoEWJwurSoImMXWe3XDH2b_jpg.rf.6a067e9179bd977d37a836af31c801a1.txt', '7XQPTvfbnFvEWDUeaGRoSW-1200-80_jpg.rf.cc141c0e16e834f9850c7b624339043d.txt', 'a-161-feed-different-food-083106-203_jpg.rf.905274b70bb859c7826a945301220541.txt', 'c3npbx_jpg.rf.b98973c1c5ed853e3e4028db4204a531.txt']\n"
     ]
    }
   ],
   "source": [
    "import os\n",
    "\n",
    "# Verify image directory\n",
    "image_dir = r\"C:\\Users\\Chintu\\OneDrive\\Desktop\\DLProj\\train\\images\"\n",
    "label_dir = r\"C:\\Users\\Chintu\\OneDrive\\Desktop\\DLProj\\train\\labels\"\n",
    "\n",
    "print(\"Images:\", os.listdir(image_dir)[:5])  # Print first 5 image filenames\n",
    "print(\"Labels:\", os.listdir(label_dir)[:5])  # Print first 5 label filenames\n"
   ]
  },
  {
   "cell_type": "markdown",
   "id": "0c921cfb",
   "metadata": {},
   "source": [
    "\n",
    "## Step 7: Train and Validate the Model"
   ]
  },
  {
   "cell_type": "code",
   "execution_count": 14,
   "id": "c6be4b09",
   "metadata": {},
   "outputs": [],
   "source": [
    "\n",
    "# Import all required libraries\n",
    "import torch\n",
    "import torch.nn as nn\n",
    "import torch.optim as optim\n",
    "from torch.utils.data import DataLoader, Dataset\n",
    "from torchvision import models, transforms\n",
    "from sklearn.metrics import roc_curve, auc, classification_report, precision_score, recall_score, f1_score, confusion_matrix, ConfusionMatrixDisplay\n",
    "import matplotlib.pyplot as plt\n",
    "import numpy as np\n",
    "import os\n",
    "from PIL import Image\n",
    "import random\n",
    "from tqdm import tqdm\n",
    "from torch.utils.tensorboard import SummaryWriter\n",
    "    "
   ]
  },
  {
   "cell_type": "code",
   "execution_count": 15,
   "id": "f1575141",
   "metadata": {},
   "outputs": [],
   "source": [
    "\n",
    "# Define the Hybrid CNN-LSTM model\n",
    "class HybridModel(nn.Module):\n",
    "    def __init__(self, num_classes=2, freeze_cnn=True):\n",
    "        super(HybridModel, self).__init__()\n",
    "        # Load pre-trained ResNet50\n",
    "        self.cnn = models.resnet50(pretrained=True)\n",
    "        self.cnn.fc = nn.Identity()  # Remove the final classification layer\n",
    "        \n",
    "        # Freeze CNN layers if required\n",
    "        if freeze_cnn:\n",
    "            for param in self.cnn.parameters():\n",
    "                param.requires_grad = False\n",
    "\n",
    "        # Define LSTM for temporal modeling\n",
    "        self.lstm = nn.LSTM(input_size=2048, hidden_size=512, num_layers=2, batch_first=True)\n",
    "        \n",
    "        # Fully connected layer for classification\n",
    "        self.fc = nn.Linear(512, num_classes)\n",
    "    \n",
    "    def forward(self, x):\n",
    "        batch_size, timesteps, C, H, W = x.size()\n",
    "        cnn_features = [self.cnn(x[:, t, :, :, :]) for t in range(timesteps)]\n",
    "        cnn_features = torch.stack(cnn_features, dim=1)\n",
    "        lstm_out, _ = self.lstm(cnn_features)\n",
    "        return self.fc(lstm_out[:, -1, :])\n",
    "    "
   ]
  },
  {
   "cell_type": "code",
   "execution_count": 16,
   "id": "da6064a5",
   "metadata": {},
   "outputs": [],
   "source": [
    "\n",
    "# Define transformations for preprocessing\n",
    "transform = transforms.Compose([\n",
    "    transforms.Resize((224, 224)),  # Resize images to the required size\n",
    "    transforms.ToTensor(),\n",
    "    transforms.Normalize([0.485, 0.456, 0.406], [0.229, 0.224, 0.225])  # Normalize with ImageNet stats\n",
    "])\n",
    "    "
   ]
  },
  {
   "cell_type": "code",
   "execution_count": 21,
   "id": "aa7fdca9",
   "metadata": {},
   "outputs": [],
   "source": [
    "import torch\n",
    "import torch.nn as nn\n",
    "from torchvision import models\n",
    "\n",
    "# Define the HybridModel class\n",
    "class HybridModel(nn.Module):\n",
    "    def __init__(self, num_classes=2, freeze_cnn=True):\n",
    "        super(HybridModel, self).__init__()\n",
    "        self.cnn = models.resnet50(pretrained=True)\n",
    "        self.cnn.fc = nn.Identity()  # Remove the final classification layer\n",
    "\n",
    "        if freeze_cnn:\n",
    "            for param in self.cnn.parameters():\n",
    "                param.requires_grad = False\n",
    "\n",
    "        self.lstm = nn.LSTM(input_size=2048, hidden_size=512, num_layers=2, batch_first=True)\n",
    "        self.fc = nn.Linear(512, num_classes)\n",
    "\n",
    "    def forward(self, x):\n",
    "        batch_size, timesteps, C, H, W = x.size()\n",
    "        cnn_features = [self.cnn(x[:, t, :, :, :]) for t in range(timesteps)]\n",
    "        cnn_features = torch.stack(cnn_features, dim=1)\n",
    "        lstm_out, _ = self.lstm(cnn_features)\n",
    "        return self.fc(lstm_out[:, -1, :])\n"
   ]
  },
  {
   "cell_type": "code",
   "execution_count": 22,
   "id": "319845e8",
   "metadata": {},
   "outputs": [
    {
     "name": "stderr",
     "output_type": "stream",
     "text": [
      "Downloading: \"https://download.pytorch.org/models/resnet50-0676ba61.pth\" to C:\\Users\\Chintu/.cache\\torch\\hub\\checkpoints\\resnet50-0676ba61.pth\n",
      "100%|██████████| 97.8M/97.8M [00:34<00:00, 2.96MB/s]\n"
     ]
    }
   ],
   "source": [
    "# Initialize the model\n",
    "device = torch.device('cuda' if torch.cuda.is_available() else 'cpu')\n",
    "model = HybridModel(num_classes=2, freeze_cnn=True).to(device)\n"
   ]
  },
  {
   "cell_type": "code",
   "execution_count": 23,
   "id": "90c133fc",
   "metadata": {},
   "outputs": [
    {
     "name": "stdout",
     "output_type": "stream",
     "text": [
      "Model saved to best_hybrid_model.pth\n"
     ]
    }
   ],
   "source": [
    "# Save the trained model\n",
    "best_model_path = \"best_hybrid_model.pth\"\n",
    "torch.save(model.state_dict(), best_model_path)\n",
    "print(f\"Model saved to {best_model_path}\")\n",
    "\n"
   ]
  },
  {
   "cell_type": "code",
   "execution_count": 26,
   "id": "57830fd7",
   "metadata": {},
   "outputs": [
    {
     "name": "stdout",
     "output_type": "stream",
     "text": [
      "Found 32 empty label files.\n",
      "['105473010-1537987843171fish_jpg.rf.35b8f298ef27b712e268402fb089e304.txt', '7XQPTvfbnFvEWDUeaGRoSW-1200-80_jpg.rf.cc141c0e16e834f9850c7b624339043d.txt', 'a-161-feed-different-food-083106-203_jpg.rf.905274b70bb859c7826a945301220541.txt', 'c3npbx_jpg.rf.b98973c1c5ed853e3e4028db4204a531.txt', 'copperband-butterfly-fish-400x300_jpg.rf.785a93659568069f5e6f00966dc53545.txt', 'creative_commons_4_goldfish_by_blubbi321_jpg.rf.c1485fb93cb34d17d5e31e01214b6718.txt', 'F1-large_jpg.rf.6f9635e8982b7eb3cf7a4a23b88d55b1.txt', 'file-20190703-126345-xa7kok_jpg.rf.41795cf843f866515a619107b75ff161.txt', 'fish-discus-swimming-825x550_jpg.rf.3248dd593ea6922590fe6a5b6f5254eb.txt', 'Fish-Lionfish-Lion-fish-Turkey-fish-Red-lionfish_jpg.rf.e860924a7e800f4ac1d73fd50db49c17.txt', 'fish_2_jpg.rf.0cbeceff62c3e12153c409356c3a2caa.txt', 'Flowerhorn-header-2-400x300_jpg.rf.ef67c118a1dc0da0cd5494d9371d71e2.txt', 'goldfish-in-aquarium-with-green-plants-picture-id585616148_jpg.rf.a61292a0797d0a60ee4dcb8014ccf42b.txt', 'Great-white-shark--GettyImages-500583044-18edc45-scaled_jpg.rf.0000d3d8c56dd3cf965ba896bf2eb7bb.txt', 'header-fish-formation_jpg.rf.92c63ad4e136daf17ddbc71874791723.txt', 'home_jpg.rf.8d02c5a9f27992d21c8bc41b89b29b3e.txt', 'How-does-vannamei-shrimp-eat__mp4-13_jpg.rf.a64c9bed0c3cee48fb8766f96bf39a60.txt', 'iStock-644996948_itthipolB-1_jpg.rf.d628a624b47f34bca03089c637285e78.txt', 'Kumita-sa-Pag-aalaga-ng-Sugpo-_-TatehTV-Episode-31_mp4-14_jpg.rf.ab7bf553cf6e194a9fd81b4d515997f9.txt', 'Litopenaeus-vannamei_mp4-43_jpg.rf.dd2baf3a7f1275c7fd6df4c2466fb771.txt', 'Litopenaeus-vannamei_mp4-45_jpg.rf.6b61481d047e2a35cd3d29e40d08a6b3.txt', 'Litopenaeus-vannamei_mp4-47_jpg.rf.1b186aff312b114236b3f66ff65975c6.txt', 'Litopenaeus-vannamei_mp4-50_jpg.rf.9eb01a7d7b476876d6a23c595434d212.txt', 'maxresdefault--1-_jpg.rf.be1925343c9f83ad1620626b2c036eaa.txt', 'maxresdefault_jpg.rf.c50866705688f79c121209e9e340f93b.txt', 'p091595d_jpg.rf.06b69d771a3ec8880c68d26a1b64b5d7.txt', 'Pterois_volitans_Manado-e_edit_jpg.rf.e21c9d999f6b9ab0277de22acde50297.txt', 'Shrimp-L_-vannamei-feeding---28-July-2017_mp4-0_jpg.rf.dda83f2e0b9e66a37218793b51ef6427.txt', 'Shrimp-L_-vannamei-feeding---28-July-2017_mp4-1_jpg.rf.27f6db052b1af8694b05bc0f7f57b792.txt', 'Shrimp-L_-vannamei-feeding---28-July-2017_mp4-88_jpg.rf.217dbf2b5396b157c5ada0eb303e1af0.txt', 'Shrimp-L_-vannamei-feeding---28-July-2017_mp4-89_jpg.rf.b6ec222017dad0c7790f1667e0ef2c25.txt', 'Shrimp-L_-vannamei-feeding---28-July-2017_mp4-90_jpg.rf.0d044d77a03dd49da574d5550ac5579b.txt']\n"
     ]
    }
   ],
   "source": [
    "import os\n",
    "\n",
    "label_dir = r\"C:\\Users\\Chintu\\OneDrive\\Desktop\\DLProj\\train\\labels\"\n",
    "\n",
    "# Find and list empty label files\n",
    "empty_labels = []\n",
    "for label_file in os.listdir(label_dir):\n",
    "    label_path = os.path.join(label_dir, label_file)\n",
    "    if os.path.getsize(label_path) == 0:  # Check if the file is empty\n",
    "        empty_labels.append(label_file)\n",
    "\n",
    "print(f\"Found {len(empty_labels)} empty label files.\")\n",
    "print(empty_labels)\n"
   ]
  },
  {
   "cell_type": "code",
   "execution_count": 27,
   "id": "e387532c",
   "metadata": {},
   "outputs": [
    {
     "name": "stdout",
     "output_type": "stream",
     "text": [
      "Removed label file: C:\\Users\\Chintu\\OneDrive\\Desktop\\DLProj\\train\\labels\\105473010-1537987843171fish_jpg.rf.35b8f298ef27b712e268402fb089e304.txt\n",
      "Removed image file: C:\\Users\\Chintu\\OneDrive\\Desktop\\DLProj\\train\\images\\105473010-1537987843171fish_jpg.rf.35b8f298ef27b712e268402fb089e304.jpg\n",
      "Removed label file: C:\\Users\\Chintu\\OneDrive\\Desktop\\DLProj\\train\\labels\\7XQPTvfbnFvEWDUeaGRoSW-1200-80_jpg.rf.cc141c0e16e834f9850c7b624339043d.txt\n",
      "Removed image file: C:\\Users\\Chintu\\OneDrive\\Desktop\\DLProj\\train\\images\\7XQPTvfbnFvEWDUeaGRoSW-1200-80_jpg.rf.cc141c0e16e834f9850c7b624339043d.jpg\n",
      "Removed label file: C:\\Users\\Chintu\\OneDrive\\Desktop\\DLProj\\train\\labels\\a-161-feed-different-food-083106-203_jpg.rf.905274b70bb859c7826a945301220541.txt\n",
      "Removed image file: C:\\Users\\Chintu\\OneDrive\\Desktop\\DLProj\\train\\images\\a-161-feed-different-food-083106-203_jpg.rf.905274b70bb859c7826a945301220541.jpg\n",
      "Removed label file: C:\\Users\\Chintu\\OneDrive\\Desktop\\DLProj\\train\\labels\\c3npbx_jpg.rf.b98973c1c5ed853e3e4028db4204a531.txt\n",
      "Removed image file: C:\\Users\\Chintu\\OneDrive\\Desktop\\DLProj\\train\\images\\c3npbx_jpg.rf.b98973c1c5ed853e3e4028db4204a531.jpg\n",
      "Removed label file: C:\\Users\\Chintu\\OneDrive\\Desktop\\DLProj\\train\\labels\\copperband-butterfly-fish-400x300_jpg.rf.785a93659568069f5e6f00966dc53545.txt\n",
      "Removed image file: C:\\Users\\Chintu\\OneDrive\\Desktop\\DLProj\\train\\images\\copperband-butterfly-fish-400x300_jpg.rf.785a93659568069f5e6f00966dc53545.jpg\n",
      "Removed label file: C:\\Users\\Chintu\\OneDrive\\Desktop\\DLProj\\train\\labels\\creative_commons_4_goldfish_by_blubbi321_jpg.rf.c1485fb93cb34d17d5e31e01214b6718.txt\n",
      "Removed image file: C:\\Users\\Chintu\\OneDrive\\Desktop\\DLProj\\train\\images\\creative_commons_4_goldfish_by_blubbi321_jpg.rf.c1485fb93cb34d17d5e31e01214b6718.jpg\n",
      "Removed label file: C:\\Users\\Chintu\\OneDrive\\Desktop\\DLProj\\train\\labels\\F1-large_jpg.rf.6f9635e8982b7eb3cf7a4a23b88d55b1.txt\n",
      "Removed image file: C:\\Users\\Chintu\\OneDrive\\Desktop\\DLProj\\train\\images\\F1-large_jpg.rf.6f9635e8982b7eb3cf7a4a23b88d55b1.jpg\n",
      "Removed label file: C:\\Users\\Chintu\\OneDrive\\Desktop\\DLProj\\train\\labels\\file-20190703-126345-xa7kok_jpg.rf.41795cf843f866515a619107b75ff161.txt\n",
      "Removed image file: C:\\Users\\Chintu\\OneDrive\\Desktop\\DLProj\\train\\images\\file-20190703-126345-xa7kok_jpg.rf.41795cf843f866515a619107b75ff161.jpg\n",
      "Removed label file: C:\\Users\\Chintu\\OneDrive\\Desktop\\DLProj\\train\\labels\\fish-discus-swimming-825x550_jpg.rf.3248dd593ea6922590fe6a5b6f5254eb.txt\n",
      "Removed image file: C:\\Users\\Chintu\\OneDrive\\Desktop\\DLProj\\train\\images\\fish-discus-swimming-825x550_jpg.rf.3248dd593ea6922590fe6a5b6f5254eb.jpg\n",
      "Removed label file: C:\\Users\\Chintu\\OneDrive\\Desktop\\DLProj\\train\\labels\\Fish-Lionfish-Lion-fish-Turkey-fish-Red-lionfish_jpg.rf.e860924a7e800f4ac1d73fd50db49c17.txt\n",
      "Removed image file: C:\\Users\\Chintu\\OneDrive\\Desktop\\DLProj\\train\\images\\Fish-Lionfish-Lion-fish-Turkey-fish-Red-lionfish_jpg.rf.e860924a7e800f4ac1d73fd50db49c17.jpg\n",
      "Removed label file: C:\\Users\\Chintu\\OneDrive\\Desktop\\DLProj\\train\\labels\\fish_2_jpg.rf.0cbeceff62c3e12153c409356c3a2caa.txt\n",
      "Removed image file: C:\\Users\\Chintu\\OneDrive\\Desktop\\DLProj\\train\\images\\fish_2_jpg.rf.0cbeceff62c3e12153c409356c3a2caa.jpg\n",
      "Removed label file: C:\\Users\\Chintu\\OneDrive\\Desktop\\DLProj\\train\\labels\\Flowerhorn-header-2-400x300_jpg.rf.ef67c118a1dc0da0cd5494d9371d71e2.txt\n",
      "Removed image file: C:\\Users\\Chintu\\OneDrive\\Desktop\\DLProj\\train\\images\\Flowerhorn-header-2-400x300_jpg.rf.ef67c118a1dc0da0cd5494d9371d71e2.jpg\n",
      "Removed label file: C:\\Users\\Chintu\\OneDrive\\Desktop\\DLProj\\train\\labels\\goldfish-in-aquarium-with-green-plants-picture-id585616148_jpg.rf.a61292a0797d0a60ee4dcb8014ccf42b.txt\n",
      "Removed image file: C:\\Users\\Chintu\\OneDrive\\Desktop\\DLProj\\train\\images\\goldfish-in-aquarium-with-green-plants-picture-id585616148_jpg.rf.a61292a0797d0a60ee4dcb8014ccf42b.jpg\n",
      "Removed label file: C:\\Users\\Chintu\\OneDrive\\Desktop\\DLProj\\train\\labels\\Great-white-shark--GettyImages-500583044-18edc45-scaled_jpg.rf.0000d3d8c56dd3cf965ba896bf2eb7bb.txt\n",
      "Removed image file: C:\\Users\\Chintu\\OneDrive\\Desktop\\DLProj\\train\\images\\Great-white-shark--GettyImages-500583044-18edc45-scaled_jpg.rf.0000d3d8c56dd3cf965ba896bf2eb7bb.jpg\n",
      "Removed label file: C:\\Users\\Chintu\\OneDrive\\Desktop\\DLProj\\train\\labels\\header-fish-formation_jpg.rf.92c63ad4e136daf17ddbc71874791723.txt\n",
      "Removed image file: C:\\Users\\Chintu\\OneDrive\\Desktop\\DLProj\\train\\images\\header-fish-formation_jpg.rf.92c63ad4e136daf17ddbc71874791723.jpg\n",
      "Removed label file: C:\\Users\\Chintu\\OneDrive\\Desktop\\DLProj\\train\\labels\\home_jpg.rf.8d02c5a9f27992d21c8bc41b89b29b3e.txt\n",
      "Removed image file: C:\\Users\\Chintu\\OneDrive\\Desktop\\DLProj\\train\\images\\home_jpg.rf.8d02c5a9f27992d21c8bc41b89b29b3e.jpg\n",
      "Removed label file: C:\\Users\\Chintu\\OneDrive\\Desktop\\DLProj\\train\\labels\\How-does-vannamei-shrimp-eat__mp4-13_jpg.rf.a64c9bed0c3cee48fb8766f96bf39a60.txt\n",
      "Removed image file: C:\\Users\\Chintu\\OneDrive\\Desktop\\DLProj\\train\\images\\How-does-vannamei-shrimp-eat__mp4-13_jpg.rf.a64c9bed0c3cee48fb8766f96bf39a60.jpg\n",
      "Removed label file: C:\\Users\\Chintu\\OneDrive\\Desktop\\DLProj\\train\\labels\\iStock-644996948_itthipolB-1_jpg.rf.d628a624b47f34bca03089c637285e78.txt\n",
      "Removed image file: C:\\Users\\Chintu\\OneDrive\\Desktop\\DLProj\\train\\images\\iStock-644996948_itthipolB-1_jpg.rf.d628a624b47f34bca03089c637285e78.jpg\n",
      "Removed label file: C:\\Users\\Chintu\\OneDrive\\Desktop\\DLProj\\train\\labels\\Kumita-sa-Pag-aalaga-ng-Sugpo-_-TatehTV-Episode-31_mp4-14_jpg.rf.ab7bf553cf6e194a9fd81b4d515997f9.txt\n",
      "Removed image file: C:\\Users\\Chintu\\OneDrive\\Desktop\\DLProj\\train\\images\\Kumita-sa-Pag-aalaga-ng-Sugpo-_-TatehTV-Episode-31_mp4-14_jpg.rf.ab7bf553cf6e194a9fd81b4d515997f9.jpg\n",
      "Removed label file: C:\\Users\\Chintu\\OneDrive\\Desktop\\DLProj\\train\\labels\\Litopenaeus-vannamei_mp4-43_jpg.rf.dd2baf3a7f1275c7fd6df4c2466fb771.txt\n",
      "Removed image file: C:\\Users\\Chintu\\OneDrive\\Desktop\\DLProj\\train\\images\\Litopenaeus-vannamei_mp4-43_jpg.rf.dd2baf3a7f1275c7fd6df4c2466fb771.jpg\n",
      "Removed label file: C:\\Users\\Chintu\\OneDrive\\Desktop\\DLProj\\train\\labels\\Litopenaeus-vannamei_mp4-45_jpg.rf.6b61481d047e2a35cd3d29e40d08a6b3.txt\n",
      "Removed image file: C:\\Users\\Chintu\\OneDrive\\Desktop\\DLProj\\train\\images\\Litopenaeus-vannamei_mp4-45_jpg.rf.6b61481d047e2a35cd3d29e40d08a6b3.jpg\n",
      "Removed label file: C:\\Users\\Chintu\\OneDrive\\Desktop\\DLProj\\train\\labels\\Litopenaeus-vannamei_mp4-47_jpg.rf.1b186aff312b114236b3f66ff65975c6.txt\n",
      "Removed image file: C:\\Users\\Chintu\\OneDrive\\Desktop\\DLProj\\train\\images\\Litopenaeus-vannamei_mp4-47_jpg.rf.1b186aff312b114236b3f66ff65975c6.jpg\n",
      "Removed label file: C:\\Users\\Chintu\\OneDrive\\Desktop\\DLProj\\train\\labels\\Litopenaeus-vannamei_mp4-50_jpg.rf.9eb01a7d7b476876d6a23c595434d212.txt\n",
      "Removed image file: C:\\Users\\Chintu\\OneDrive\\Desktop\\DLProj\\train\\images\\Litopenaeus-vannamei_mp4-50_jpg.rf.9eb01a7d7b476876d6a23c595434d212.jpg\n",
      "Removed label file: C:\\Users\\Chintu\\OneDrive\\Desktop\\DLProj\\train\\labels\\maxresdefault--1-_jpg.rf.be1925343c9f83ad1620626b2c036eaa.txt\n",
      "Removed image file: C:\\Users\\Chintu\\OneDrive\\Desktop\\DLProj\\train\\images\\maxresdefault--1-_jpg.rf.be1925343c9f83ad1620626b2c036eaa.jpg\n",
      "Removed label file: C:\\Users\\Chintu\\OneDrive\\Desktop\\DLProj\\train\\labels\\maxresdefault_jpg.rf.c50866705688f79c121209e9e340f93b.txt\n",
      "Removed image file: C:\\Users\\Chintu\\OneDrive\\Desktop\\DLProj\\train\\images\\maxresdefault_jpg.rf.c50866705688f79c121209e9e340f93b.jpg\n",
      "Removed label file: C:\\Users\\Chintu\\OneDrive\\Desktop\\DLProj\\train\\labels\\p091595d_jpg.rf.06b69d771a3ec8880c68d26a1b64b5d7.txt\n",
      "Removed image file: C:\\Users\\Chintu\\OneDrive\\Desktop\\DLProj\\train\\images\\p091595d_jpg.rf.06b69d771a3ec8880c68d26a1b64b5d7.jpg\n",
      "Removed label file: C:\\Users\\Chintu\\OneDrive\\Desktop\\DLProj\\train\\labels\\Pterois_volitans_Manado-e_edit_jpg.rf.e21c9d999f6b9ab0277de22acde50297.txt\n",
      "Removed image file: C:\\Users\\Chintu\\OneDrive\\Desktop\\DLProj\\train\\images\\Pterois_volitans_Manado-e_edit_jpg.rf.e21c9d999f6b9ab0277de22acde50297.jpg\n",
      "Removed label file: C:\\Users\\Chintu\\OneDrive\\Desktop\\DLProj\\train\\labels\\Shrimp-L_-vannamei-feeding---28-July-2017_mp4-0_jpg.rf.dda83f2e0b9e66a37218793b51ef6427.txt\n",
      "Removed image file: C:\\Users\\Chintu\\OneDrive\\Desktop\\DLProj\\train\\images\\Shrimp-L_-vannamei-feeding---28-July-2017_mp4-0_jpg.rf.dda83f2e0b9e66a37218793b51ef6427.jpg\n",
      "Removed label file: C:\\Users\\Chintu\\OneDrive\\Desktop\\DLProj\\train\\labels\\Shrimp-L_-vannamei-feeding---28-July-2017_mp4-1_jpg.rf.27f6db052b1af8694b05bc0f7f57b792.txt\n",
      "Removed image file: C:\\Users\\Chintu\\OneDrive\\Desktop\\DLProj\\train\\images\\Shrimp-L_-vannamei-feeding---28-July-2017_mp4-1_jpg.rf.27f6db052b1af8694b05bc0f7f57b792.jpg\n",
      "Removed label file: C:\\Users\\Chintu\\OneDrive\\Desktop\\DLProj\\train\\labels\\Shrimp-L_-vannamei-feeding---28-July-2017_mp4-88_jpg.rf.217dbf2b5396b157c5ada0eb303e1af0.txt\n",
      "Removed image file: C:\\Users\\Chintu\\OneDrive\\Desktop\\DLProj\\train\\images\\Shrimp-L_-vannamei-feeding---28-July-2017_mp4-88_jpg.rf.217dbf2b5396b157c5ada0eb303e1af0.jpg\n",
      "Removed label file: C:\\Users\\Chintu\\OneDrive\\Desktop\\DLProj\\train\\labels\\Shrimp-L_-vannamei-feeding---28-July-2017_mp4-89_jpg.rf.b6ec222017dad0c7790f1667e0ef2c25.txt\n",
      "Removed image file: C:\\Users\\Chintu\\OneDrive\\Desktop\\DLProj\\train\\images\\Shrimp-L_-vannamei-feeding---28-July-2017_mp4-89_jpg.rf.b6ec222017dad0c7790f1667e0ef2c25.jpg\n",
      "Removed label file: C:\\Users\\Chintu\\OneDrive\\Desktop\\DLProj\\train\\labels\\Shrimp-L_-vannamei-feeding---28-July-2017_mp4-90_jpg.rf.0d044d77a03dd49da574d5550ac5579b.txt\n",
      "Removed image file: C:\\Users\\Chintu\\OneDrive\\Desktop\\DLProj\\train\\images\\Shrimp-L_-vannamei-feeding---28-July-2017_mp4-90_jpg.rf.0d044d77a03dd49da574d5550ac5579b.jpg\n"
     ]
    }
   ],
   "source": [
    "image_dir = r\"C:\\Users\\Chintu\\OneDrive\\Desktop\\DLProj\\train\\images\"\n",
    "\n",
    "for label_file in empty_labels:\n",
    "    # Remove empty label file\n",
    "    label_path = os.path.join(label_dir, label_file)\n",
    "    os.remove(label_path)\n",
    "    print(f\"Removed label file: {label_path}\")\n",
    "\n",
    "    # Remove corresponding image file\n",
    "    image_file = label_file.replace('.txt', '.jpg')  # Adjust based on your dataset format\n",
    "    image_path = os.path.join(image_dir, image_file)\n",
    "    if os.path.exists(image_path):\n",
    "        os.remove(image_path)\n",
    "        print(f\"Removed image file: {image_path}\")\n"
   ]
  },
  {
   "cell_type": "code",
   "execution_count": 32,
   "id": "efdca2cd",
   "metadata": {},
   "outputs": [
    {
     "name": "stdout",
     "output_type": "stream",
     "text": [
      "Found 9 empty label files.\n",
      "Removed label file: C:\\Users\\Chintu\\OneDrive\\Desktop\\DLProj\\valid\\labels\\Copperband-butterflyfish_jpg.rf.d35db0c3b604aa4035ee76e11d4cf779.txt\n",
      "Removed image file: C:\\Users\\Chintu\\OneDrive\\Desktop\\DLProj\\valid\\images\\Copperband-butterflyfish_jpg.rf.d35db0c3b604aa4035ee76e11d4cf779.jpg\n",
      "Removed label file: C:\\Users\\Chintu\\OneDrive\\Desktop\\DLProj\\valid\\labels\\fish-carp-scales-raw-river-fish-fish-carp-scales-raw-river-fish-fresh-goldfish-side-view-isolated-white-background-125738171_jpg.rf.2d885f88dc6bcf974c7c105a8cb4d09f.txt\n",
      "Removed image file: C:\\Users\\Chintu\\OneDrive\\Desktop\\DLProj\\valid\\images\\fish-carp-scales-raw-river-fish-fish-carp-scales-raw-river-fish-fresh-goldfish-side-view-isolated-white-background-125738171_jpg.rf.2d885f88dc6bcf974c7c105a8cb4d09f.jpg\n",
      "Removed label file: C:\\Users\\Chintu\\OneDrive\\Desktop\\DLProj\\valid\\labels\\Georgia_Aquarium_-_Giant_Grouper_edit_jpg.rf.cd7f94c07cbc5ae6e7a2e6af383207ca.txt\n",
      "Removed image file: C:\\Users\\Chintu\\OneDrive\\Desktop\\DLProj\\valid\\images\\Georgia_Aquarium_-_Giant_Grouper_edit_jpg.rf.cd7f94c07cbc5ae6e7a2e6af383207ca.jpg\n",
      "Removed label file: C:\\Users\\Chintu\\OneDrive\\Desktop\\DLProj\\valid\\labels\\How-does-vannamei-shrimp-eat__mp4-22_jpg.rf.1c343d672321f598f71cc491ebce55fd.txt\n",
      "Removed image file: C:\\Users\\Chintu\\OneDrive\\Desktop\\DLProj\\valid\\images\\How-does-vannamei-shrimp-eat__mp4-22_jpg.rf.1c343d672321f598f71cc491ebce55fd.jpg\n",
      "Removed label file: C:\\Users\\Chintu\\OneDrive\\Desktop\\DLProj\\valid\\labels\\iStock-1160758684_NONTANUN-CHAIPRAKON-1-602x301_jpg.rf.153cf2521b5691d7e0ad95ab2576eda4.txt\n",
      "Removed image file: C:\\Users\\Chintu\\OneDrive\\Desktop\\DLProj\\valid\\images\\iStock-1160758684_NONTANUN-CHAIPRAKON-1-602x301_jpg.rf.153cf2521b5691d7e0ad95ab2576eda4.jpg\n",
      "Removed label file: C:\\Users\\Chintu\\OneDrive\\Desktop\\DLProj\\valid\\labels\\Litopenaeus-vannamei_mp4-0_jpg.rf.c56453f52d1a0821c073aaabdcbc97d8.txt\n",
      "Removed image file: C:\\Users\\Chintu\\OneDrive\\Desktop\\DLProj\\valid\\images\\Litopenaeus-vannamei_mp4-0_jpg.rf.c56453f52d1a0821c073aaabdcbc97d8.jpg\n",
      "Removed label file: C:\\Users\\Chintu\\OneDrive\\Desktop\\DLProj\\valid\\labels\\Mandarin-Fish-1024x720-1_jpg.rf.56ebdc4f37c808124ad621a0e465c0f7.txt\n",
      "Removed image file: C:\\Users\\Chintu\\OneDrive\\Desktop\\DLProj\\valid\\images\\Mandarin-Fish-1024x720-1_jpg.rf.56ebdc4f37c808124ad621a0e465c0f7.jpg\n",
      "Removed label file: C:\\Users\\Chintu\\OneDrive\\Desktop\\DLProj\\valid\\labels\\Shrimp-L_-vannamei-feeding---28-July-2017_mp4-66_jpg.rf.ae2119bacde5642c69ed4e083ad40173.txt\n",
      "Removed image file: C:\\Users\\Chintu\\OneDrive\\Desktop\\DLProj\\valid\\images\\Shrimp-L_-vannamei-feeding---28-July-2017_mp4-66_jpg.rf.ae2119bacde5642c69ed4e083ad40173.jpg\n",
      "Removed label file: C:\\Users\\Chintu\\OneDrive\\Desktop\\DLProj\\valid\\labels\\Smallfish2_topNteaser_jpg.rf.665aeb6b8e381f55be3a6e48aa92267d.txt\n",
      "Removed image file: C:\\Users\\Chintu\\OneDrive\\Desktop\\DLProj\\valid\\images\\Smallfish2_topNteaser_jpg.rf.665aeb6b8e381f55be3a6e48aa92267d.jpg\n"
     ]
    }
   ],
   "source": [
    "import os\n",
    "\n",
    "def clean_empty_labels(image_dir, label_dir):\n",
    "    empty_labels = []\n",
    "\n",
    "    # Identify empty label files\n",
    "    for label_file in os.listdir(label_dir):\n",
    "        label_path = os.path.join(label_dir, label_file)\n",
    "        if os.path.getsize(label_path) == 0:  # Check if the file is empty\n",
    "            empty_labels.append(label_file)\n",
    "\n",
    "    print(f\"Found {len(empty_labels)} empty label files.\")\n",
    "\n",
    "    # Remove empty label files and corresponding images\n",
    "    for label_file in empty_labels:\n",
    "        # Remove the label file\n",
    "        label_path = os.path.join(label_dir, label_file)\n",
    "        os.remove(label_path)\n",
    "        print(f\"Removed label file: {label_path}\")\n",
    "\n",
    "        # Remove the corresponding image file\n",
    "        image_file = label_file.replace('.txt', '.jpg')  # Adjust extension as needed\n",
    "        image_path = os.path.join(image_dir, image_file)\n",
    "        if os.path.exists(image_path):\n",
    "            os.remove(image_path)\n",
    "            print(f\"Removed image file: {image_path}\")\n",
    "\n",
    "# Paths to validation images and labels\n",
    "valid_image_path = r\"C:\\Users\\Chintu\\OneDrive\\Desktop\\DLProj\\valid\\images\"\n",
    "valid_label_path = r\"C:\\Users\\Chintu\\OneDrive\\Desktop\\DLProj\\valid\\labels\"\n",
    "\n",
    "# Clean empty label files in the validation dataset\n",
    "clean_empty_labels(valid_image_path, valid_label_path)\n"
   ]
  },
  {
   "cell_type": "code",
   "execution_count": 33,
   "id": "7b34826e",
   "metadata": {},
   "outputs": [],
   "source": [
    "class ImageDataset(Dataset):\n",
    "    def __init__(self, image_dir, label_dir, transform=None):\n",
    "        self.image_dir = image_dir\n",
    "        self.label_dir = label_dir\n",
    "        self.image_files = [\n",
    "            file for file in os.listdir(image_dir) if file.endswith(('.jpg', '.png', '.jpeg'))\n",
    "        ]\n",
    "        self.transform = transform\n",
    "\n",
    "    def __len__(self):\n",
    "        return len(self.image_files)\n",
    "\n",
    "    def __getitem__(self, idx):\n",
    "        image_path = os.path.join(self.image_dir, self.image_files[idx])\n",
    "        label_path = os.path.join(self.label_dir, self.image_files[idx].replace('.jpg', '.txt').replace('.png', '.txt').replace('.jpeg', '.txt'))\n",
    "\n",
    "        # Load the image\n",
    "        image = Image.open(image_path).convert('RGB')\n",
    "        if self.transform:\n",
    "            image = self.transform(image)\n",
    "\n",
    "        # Load the label\n",
    "        try:\n",
    "            if os.path.getsize(label_path) == 0:  # Skip empty label files\n",
    "                raise ValueError(f\"Label file is empty: {label_path}\")\n",
    "            with open(label_path, 'r') as file:\n",
    "                label_content = file.readline().strip()\n",
    "                if not label_content:\n",
    "                    raise ValueError(f\"Label file is empty: {label_path}\")\n",
    "                label = int(label_content.split()[0])  # Assume first value is the class ID\n",
    "        except Exception as e:\n",
    "            raise RuntimeError(f\"Error loading label for {image_path}: {e}\")\n",
    "\n",
    "        return image, label\n"
   ]
  },
  {
   "cell_type": "code",
   "execution_count": null,
   "id": "0ebeea76",
   "metadata": {},
   "outputs": [
    {
     "name": "stderr",
     "output_type": "stream",
     "text": [
      "c:\\Users\\Chintu\\AppData\\Local\\Programs\\Python\\Python312\\Lib\\site-packages\\torchvision\\models\\_utils.py:208: UserWarning: The parameter 'pretrained' is deprecated since 0.13 and may be removed in the future, please use 'weights' instead.\n",
      "  warnings.warn(\n",
      "c:\\Users\\Chintu\\AppData\\Local\\Programs\\Python\\Python312\\Lib\\site-packages\\torchvision\\models\\_utils.py:223: UserWarning: Arguments other than a weight enum or `None` for 'weights' are deprecated since 0.13 and may be removed in the future. The current behavior is equivalent to passing `weights=ResNet50_Weights.IMAGENET1K_V1`. You can also use `weights=ResNet50_Weights.DEFAULT` to get the most up-to-date weights.\n",
      "  warnings.warn(msg)\n"
     ]
    },
    {
     "name": "stdout",
     "output_type": "stream",
     "text": [
      "Epoch 1/10, Train Loss: 0.1821, Train Accuracy: 93.60%, Validation Loss: 0.1751, Validation Accuracy: 92.45%\n",
      "Epoch 2/10, Train Loss: 0.0781, Train Accuracy: 98.09%, Validation Loss: 0.3148, Validation Accuracy: 92.45%\n",
      "Epoch 3/10, Train Loss: 0.1071, Train Accuracy: 97.42%, Validation Loss: 0.2463, Validation Accuracy: 92.45%\n",
      "Epoch 4/10, Train Loss: 0.0744, Train Accuracy: 97.78%, Validation Loss: 0.2681, Validation Accuracy: 93.08%\n",
      "Epoch 5/10, Train Loss: 0.0490, Train Accuracy: 98.81%, Validation Loss: 0.3712, Validation Accuracy: 91.19%\n",
      "Epoch 6/10, Train Loss: 0.0872, Train Accuracy: 97.68%, Validation Loss: 0.3353, Validation Accuracy: 91.82%\n",
      "Epoch 7/10, Train Loss: 0.0606, Train Accuracy: 98.19%, Validation Loss: 0.2375, Validation Accuracy: 93.71%\n",
      "Epoch 8/10, Train Loss: 0.0481, Train Accuracy: 98.76%, Validation Loss: 0.3656, Validation Accuracy: 91.19%\n",
      "Epoch 9/10, Train Loss: 0.0531, Train Accuracy: 98.71%, Validation Loss: 0.4803, Validation Accuracy: 91.82%\n",
      "Epoch 10/10, Train Loss: 0.0389, Train Accuracy: 99.07%, Validation Loss: 0.3004, Validation Accuracy: 92.45%\n",
      "Final model saved to final_hybrid_model.pth\n"
     ]
    }
   ],
   "source": [
    "import torch\n",
    "import torch.nn as nn\n",
    "import torch.optim as optim\n",
    "from torch.utils.data import DataLoader, Dataset\n",
    "from torchvision import models, transforms\n",
    "import matplotlib.pyplot as plt\n",
    "from sklearn.metrics import roc_curve, auc, classification_report, confusion_matrix, ConfusionMatrixDisplay\n",
    "import os\n",
    "from PIL import Image\n",
    "import random\n",
    "from torch.utils.tensorboard import SummaryWriter\n",
    "\n",
    "\n",
    "\n",
    "# ------------------ Step 2: Define the Model ------------------\n",
    "class HybridModel(nn.Module):\n",
    "    def __init__(self, num_classes=2, freeze_cnn=True):\n",
    "        super(HybridModel, self).__init__()\n",
    "        self.cnn = models.resnet50(pretrained=True)\n",
    "        self.cnn.fc = nn.Identity()  # Remove the classification layer\n",
    "\n",
    "        if freeze_cnn:\n",
    "            for param in self.cnn.parameters():\n",
    "                param.requires_grad = False\n",
    "\n",
    "        self.lstm = nn.LSTM(input_size=2048, hidden_size=512, num_layers=2, batch_first=True)\n",
    "        self.fc = nn.Linear(512, num_classes)\n",
    "\n",
    "    def forward(self, x):\n",
    "        batch_size, timesteps, C, H, W = x.size()\n",
    "        cnn_features = [self.cnn(x[:, t, :, :, :]) for t in range(timesteps)]\n",
    "        cnn_features = torch.stack(cnn_features, dim=1)\n",
    "        lstm_out, _ = self.lstm(cnn_features)\n",
    "        return self.fc(lstm_out[:, -1, :])\n",
    "\n",
    "# ------------------ Step 3: Initialize Dataset and DataLoader ------------------\n",
    "# Define transforms\n",
    "transform = transforms.Compose([\n",
    "    transforms.Resize((224, 224)),\n",
    "    transforms.ToTensor(),\n",
    "    transforms.Normalize(mean=[0.485, 0.456, 0.406], std=[0.229, 0.224, 0.225])\n",
    "])\n",
    "\n",
    "# Paths to training and validation datasets\n",
    "train_image_path = r\"C:\\Users\\Chintu\\OneDrive\\Desktop\\DLProj\\train\\images\"\n",
    "train_label_path = r'C:\\Users\\Chintu\\OneDrive\\Desktop\\DLProj\\train\\labels'\n",
    "valid_image_path = r\"C:\\Users\\Chintu\\OneDrive\\Desktop\\DLProj\\valid\\images\"\n",
    "valid_label_path = r\"C:\\Users\\Chintu\\OneDrive\\Desktop\\DLProj\\valid\\labels\"\n",
    "\n",
    "# Initialize datasets and dataloaders\n",
    "train_dataset = ImageDataset(train_image_path, train_label_path, transform=transform)\n",
    "valid_dataset = ImageDataset(valid_image_path, valid_label_path, transform=transform)\n",
    "\n",
    "train_loader = DataLoader(train_dataset, batch_size=32, shuffle=True)\n",
    "valid_loader = DataLoader(valid_dataset, batch_size=32, shuffle=False)\n",
    "\n",
    "# ------------------ Step 4: Initialize Model, Loss, and Optimizer ------------------\n",
    "device = torch.device('cuda' if torch.cuda.is_available() else 'cpu')\n",
    "model = HybridModel(num_classes=2, freeze_cnn=True).to(device)\n",
    "\n",
    "criterion = nn.CrossEntropyLoss()\n",
    "optimizer = optim.Adam(model.parameters(), lr=1e-3)\n",
    "\n",
    "# TensorBoard for logging\n",
    "writer = SummaryWriter(log_dir=\"logs\")\n",
    "\n",
    "# ------------------ Step 5: Training the Model ------------------\n",
    "epochs = 10  \n",
    "training_losses = []\n",
    "validation_losses = []\n",
    "training_accuracies = []\n",
    "validation_accuracies = []\n",
    "\n",
    "for epoch in range(epochs):\n",
    "    # Training\n",
    "    model.train()\n",
    "    total_train_loss = 0\n",
    "    correct_train = 0\n",
    "    total_train = 0\n",
    "    for images, labels in train_loader:\n",
    "        images, labels = images.to(device), labels.to(device)\n",
    "        optimizer.zero_grad()\n",
    "        outputs = model(images.unsqueeze(1))\n",
    "        loss = criterion(outputs, labels)\n",
    "        loss.backward()\n",
    "        optimizer.step()\n",
    "\n",
    "        total_train_loss += loss.item()\n",
    "        _, predicted = torch.max(outputs, 1)\n",
    "        correct_train += (predicted == labels).sum().item()\n",
    "        total_train += labels.size(0)\n",
    "\n",
    "    training_losses.append(total_train_loss / len(train_loader))\n",
    "    training_accuracies.append(100 * correct_train / total_train)\n",
    "\n",
    "    # Validation\n",
    "    model.eval()\n",
    "    total_valid_loss = 0\n",
    "    correct_valid = 0\n",
    "    total_valid = 0\n",
    "    with torch.no_grad():\n",
    "        for images, labels in valid_loader:\n",
    "            images, labels = images.to(device), labels.to(device)\n",
    "            outputs = model(images.unsqueeze(1))\n",
    "            loss = criterion(outputs, labels)\n",
    "            total_valid_loss += loss.item()\n",
    "            _, predicted = torch.max(outputs, 1)\n",
    "            correct_valid += (predicted == labels).sum().item()\n",
    "            total_valid += labels.size(0)\n",
    "\n",
    "    validation_losses.append(total_valid_loss / len(valid_loader))\n",
    "    validation_accuracies.append(100 * correct_valid / total_valid)\n",
    "\n",
    "    # Log to TensorBoard\n",
    "    writer.add_scalar(\"Loss/Train\", training_losses[-1], epoch)\n",
    "    writer.add_scalar(\"Loss/Validation\", validation_losses[-1], epoch)\n",
    "    writer.add_scalar(\"Accuracy/Train\", training_accuracies[-1], epoch)\n",
    "    writer.add_scalar(\"Accuracy/Validation\", validation_accuracies[-1], epoch)\n",
    "\n",
    "    print(f\"Epoch {epoch+1}/{epochs}, \"\n",
    "          f\"Train Loss: {training_losses[-1]:.4f}, Train Accuracy: {training_accuracies[-1]:.2f}%, \"\n",
    "          f\"Validation Loss: {validation_losses[-1]:.4f}, Validation Accuracy: {validation_accuracies[-1]:.2f}%\")\n",
    "\n",
    "writer.close()\n",
    "\n",
    "# ------------------ Step 6: Save the Trained Model ------------------\n",
    "final_model_path = \"final_hybrid_model.pth\"\n",
    "torch.save(model.state_dict(), final_model_path)\n",
    "print(f\"Final model saved to {final_model_path}\")\n"
   ]
  },
  {
   "cell_type": "code",
   "execution_count": 53,
   "id": "3e929465",
   "metadata": {},
   "outputs": [
    {
     "name": "stdout",
     "output_type": "stream",
     "text": [
      "Found 1 empty label files.\n",
      "Removed label file: C:\\Users\\Chintu\\OneDrive\\Desktop\\DLProj\\test\\labels\\49226239866_cb2e5f76fb_c_jpg.rf.5c78fee11562ce6c57a0fad054b39e72.txt\n"
     ]
    }
   ],
   "source": [
    "import os\n",
    "\n",
    "def clean_empty_labels(image_dir, label_dir):\n",
    "    empty_labels = []\n",
    "\n",
    "    # Identify empty label files\n",
    "    for label_file in os.listdir(label_dir):\n",
    "        label_path = os.path.join(label_dir, label_file)\n",
    "        if os.path.getsize(label_path) == 0:  # Check if the file is empty\n",
    "            empty_labels.append(label_file)\n",
    "\n",
    "    print(f\"Found {len(empty_labels)} empty label files.\")\n",
    "\n",
    "    # Remove empty label files and corresponding images\n",
    "    for label_file in empty_labels:\n",
    "        # Remove the label file\n",
    "        label_path = os.path.join(label_dir, label_file)\n",
    "        os.remove(label_path)\n",
    "        print(f\"Removed label file: {label_path}\")\n",
    "\n",
    "        # Remove the corresponding image file\n",
    "        image_file = label_file.replace('.txt', '.jpg')  # Adjust extension as needed\n",
    "        image_path = os.path.join(image_dir, image_file)\n",
    "        if os.path.exists(image_path):\n",
    "            os.remove(image_path)\n",
    "            print(f\"Removed image file: {image_path}\")\n",
    "\n",
    "# Paths to test images and labels\n",
    "test_image_path = r\"C:\\Users\\Chintu\\OneDrive\\Desktop\\DLProj\\test\\images\"\n",
    "test_label_path = r\"C:\\Users\\Chintu\\OneDrive\\Desktop\\DLProj\\test\\labels\"\n",
    "\n",
    "# Clean empty label files in the test dataset\n",
    "clean_empty_labels(test_image_path, test_label_path)\n"
   ]
  },
  {
   "cell_type": "code",
   "execution_count": 54,
   "id": "00f9d62e",
   "metadata": {},
   "outputs": [],
   "source": [
    "class ImageDataset(Dataset):\n",
    "    def __init__(self, image_dir, label_dir, transform=None):\n",
    "        self.image_dir = image_dir\n",
    "        self.label_dir = label_dir\n",
    "        self.image_files = [\n",
    "            file for file in os.listdir(image_dir) if file.endswith(('.jpg', '.png', '.jpeg'))\n",
    "        ]\n",
    "        self.transform = transform\n",
    "\n",
    "    def __len__(self):\n",
    "        return len(self.image_files)\n",
    "\n",
    "    def __getitem__(self, idx):\n",
    "        image_path = os.path.join(self.image_dir, self.image_files[idx])\n",
    "        label_path = os.path.join(self.label_dir, self.image_files[idx].replace('.jpg', '.txt').replace('.png', '.txt').replace('.jpeg', '.txt'))\n",
    "\n",
    "        # Load the image\n",
    "        image = Image.open(image_path).convert('RGB')\n",
    "        if self.transform:\n",
    "            image = self.transform(image)\n",
    "\n",
    "        # Load the label\n",
    "        try:\n",
    "            if os.path.getsize(label_path) == 0:  # Skip empty label files\n",
    "                raise ValueError(f\"Label file is empty: {label_path}\")\n",
    "            with open(label_path, 'r') as file:\n",
    "                label_content = file.readline().strip()\n",
    "                if not label_content:\n",
    "                    raise ValueError(f\"Label file is empty: {label_path}\")\n",
    "                label = int(label_content.split()[0])  # Assume first value is the class ID\n",
    "        except Exception as e:\n",
    "            raise RuntimeError(f\"Error loading label for {image_path}: {e}\")\n",
    "\n",
    "        return image, label\n"
   ]
  },
  {
   "cell_type": "code",
   "execution_count": 55,
   "id": "69dada81",
   "metadata": {},
   "outputs": [
    {
     "name": "stdout",
     "output_type": "stream",
     "text": [
      "Test dataset size: 84\n"
     ]
    }
   ],
   "source": [
    "# Reload test dataset\n",
    "test_dataset = ImageDataset(\n",
    "    image_dir=r\"C:\\Users\\Chintu\\OneDrive\\Desktop\\DLProj\\test\\images\",\n",
    "    label_dir=r\"C:\\Users\\Chintu\\OneDrive\\Desktop\\DLProj\\test\\labels\",\n",
    "    transform=transform\n",
    ")\n",
    "\n",
    "# Create test DataLoader\n",
    "test_loader = DataLoader(test_dataset, batch_size=32, shuffle=False)\n",
    "\n",
    "# Check dataset size\n",
    "print(f\"Test dataset size: {len(test_dataset)}\")\n"
   ]
  },
  {
   "cell_type": "code",
   "execution_count": 56,
   "id": "0547e7c6",
   "metadata": {},
   "outputs": [
    {
     "data": {
      "image/png": "[encoded data removed]",
      "text/plain": [
       "<Figure size 800x600 with 1 Axes>"
      ]
     },
     "metadata": {},
     "output_type": "display_data"
    },
    {
     "name": "stdout",
     "output_type": "stream",
     "text": [
      "              precision    recall  f1-score   support\n",
      "\n",
      "     Class 0       1.00      0.94      0.97        69\n",
      "     Class 1       0.79      1.00      0.88        15\n",
      "\n",
      "    accuracy                           0.95        84\n",
      "   macro avg       0.89      0.97      0.93        84\n",
      "weighted avg       0.96      0.95      0.95        84\n",
      "\n"
     ]
    },
    {
     "data": {
      "image/png": "[encoded data removed]",
      "text/plain": [
       "<Figure size 640x480 with 2 Axes>"
      ]
     },
     "metadata": {},
     "output_type": "display_data"
    }
   ],
   "source": [
    "# Evaluate on test set\n",
    "model.eval()\n",
    "test_true_labels = []\n",
    "test_predicted_probs = []\n",
    "\n",
    "with torch.no_grad():\n",
    "    for images, labels in test_loader:\n",
    "        images, labels = images.to(device), labels.to(device)\n",
    "        outputs = model(images.unsqueeze(1))\n",
    "        probs = torch.softmax(outputs, dim=1)[:, 1]  # Probability of the positive class\n",
    "        test_true_labels.extend(labels.cpu().numpy())\n",
    "        test_predicted_probs.extend(probs.cpu().numpy())\n",
    "\n",
    "# Compute Metrics\n",
    "from sklearn.metrics import roc_curve, auc, classification_report, confusion_matrix, ConfusionMatrixDisplay\n",
    "\n",
    "# Compute ROC Curve and AUC\n",
    "fpr, tpr, _ = roc_curve(test_true_labels, test_predicted_probs)\n",
    "test_roc_auc = auc(fpr, tpr)\n",
    "\n",
    "# Plot ROC Curve\n",
    "plt.figure(figsize=(8, 6))\n",
    "plt.plot(fpr, tpr, label=f\"Test ROC Curve (AUC = {test_roc_auc:.2f})\")\n",
    "plt.plot([0, 1], [0, 1], linestyle='--', color='gray', label='Random Guess')\n",
    "plt.xlabel('False Positive Rate')\n",
    "plt.ylabel('True Positive Rate')\n",
    "plt.title('Test ROC Curve')\n",
    "plt.legend(loc='lower right')\n",
    "plt.show()\n",
    "\n",
    "# Classification Report\n",
    "threshold = 0.5  # Default threshold for classification\n",
    "test_predicted_labels = [1 if prob >= threshold else 0 for prob in test_predicted_probs]\n",
    "print(classification_report(test_true_labels, test_predicted_labels, target_names=['Class 0', 'Class 1']))\n",
    "\n",
    "# Confusion Matrix\n",
    "cm = confusion_matrix(test_true_labels, test_predicted_labels)\n",
    "disp = ConfusionMatrixDisplay(confusion_matrix=cm, display_labels=['Class 0', 'Class 1'])\n",
    "disp.plot(cmap='viridis')\n",
    "plt.title('Test Confusion Matrix')\n",
    "plt.show()\n"
   ]
  }
 ],
 "metadata": {
  "kernelspec": {
   "display_name": "Python 3",
   "language": "python",
   "name": "python3"
  },
  "language_info": {
   "codemirror_mode": {
    "name": "ipython",
    "version": 3
   },
   "file_extension": ".py",
   "mimetype": "text/x-python",
   "name": "python",
   "nbconvert_exporter": "python",
   "pygments_lexer": "ipython3",
   "version": "3.12.5"
  }
 },
 "nbformat": 4,
 "nbformat_minor": 5
}
